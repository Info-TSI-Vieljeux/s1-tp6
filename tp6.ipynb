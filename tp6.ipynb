{
 "cells": [
  {
   "cell_type": "markdown",
   "id": "18493147",
   "metadata": {},
   "source": [
    ">Ouvrir le notebook dans Colab en modifiant le début de son adresse dans le navigateur :<br>\n",
    "il faut remplacer **github.com** par **githubtocolab.com**.<br>\n",
    "Une fois vos réponses apportées, le notebook devra être sauvegardé dans GitHub, dans le repository du TP :<br>\n",
    "*Fichier > Enregistrer une copie dans Github*<br>\n",
    "*Info-TSI-Vieljeux/tpx-votre_nom*<br>\n",
    "\n",
    "---"
   ]
  },
  {
   "cell_type": "markdown",
   "id": "c1bf3670",
   "metadata": {
    "deletable": false,
    "editable": false,
    "nbgrader": {
     "cell_type": "markdown",
     "checksum": "7309fb7f83942f336325e9c2f82fc975",
     "grade": false,
     "grade_id": "cell-958ea73395a46aba",
     "locked": true,
     "schema_version": 3,
     "solution": false,
     "task": false
    }
   },
   "source": [
    "# Algorithmes de tris"
   ]
  },
  {
   "cell_type": "markdown",
   "id": "760f8994",
   "metadata": {
    "deletable": false,
    "editable": false,
    "nbgrader": {
     "cell_type": "markdown",
     "checksum": "9423f5c1a17d810f97020a88e0a507dc",
     "grade": false,
     "grade_id": "cell-95ee8ed8f98a7ea0",
     "locked": true,
     "schema_version": 3,
     "solution": false,
     "task": false
    }
   },
   "source": [
    "Trier c'est partir d'une structure de données désordonnée et la remettre en ordre.<br>\n",
    "Les tris sont omniprésents en informatique et Tim Roughgarden (auteur d'\"*Algorithms illuminated*\") en parle même comme de la \"mère de tous les problèmes algorithmiques\".<br>\n",
    "Plusieurs stratégies existent. On va en passer certaines en revue et essayer de trier les algorithmes de tri."
   ]
  },
  {
   "cell_type": "code",
   "execution_count": null,
   "id": "42b0ee41",
   "metadata": {},
   "outputs": [],
   "source": [
    "%%html\n",
    "<iframe src=\"https://trinket.io/embed/glowscript/3d9576597b?outputOnly=true\" width=\"100%\" height=\"660\" frameborder=\"0\" marginwidth=\"0\" marginheight=\"0\" allowfullscreen></iframe>"
   ]
  },
  {
   "cell_type": "markdown",
   "id": "063e3996",
   "metadata": {
    "deletable": false,
    "editable": false,
    "nbgrader": {
     "cell_type": "markdown",
     "checksum": "8417ca15504668606a46d7e02ff0ce34",
     "grade": false,
     "grade_id": "cell-eaa086ec5e9be6c7",
     "locked": true,
     "schema_version": 3,
     "solution": false,
     "task": false
    }
   },
   "source": [
    "## Tris par comparaison"
   ]
  },
  {
   "cell_type": "markdown",
   "id": "c49289da",
   "metadata": {
    "deletable": false,
    "editable": false,
    "nbgrader": {
     "cell_type": "markdown",
     "checksum": "9eb542c44667f29995f4b42e08ded8e0",
     "grade": false,
     "grade_id": "cell-d6660ac793ba43e9",
     "locked": true,
     "schema_version": 3,
     "solution": false,
     "task": false
    }
   },
   "source": [
    "La plupart des algorithmes de tri sont dits **par comparaison** car ils reposent sur des comparaisons deux à deux des éléments de la liste."
   ]
  },
  {
   "cell_type": "markdown",
   "id": "63487f2d",
   "metadata": {
    "deletable": false,
    "editable": false,
    "nbgrader": {
     "cell_type": "markdown",
     "checksum": "35ef5f4803d32a9a0ff334b8b61e0522",
     "grade": false,
     "grade_id": "cell-d12fd07ededf27b9",
     "locked": true,
     "schema_version": 3,
     "solution": false,
     "task": false
    }
   },
   "source": [
    "On a déjà rencontré deux algorithmes de tri par comparaison dans le TP sur la récursivité : le tri par insertion et le tri fusion."
   ]
  },
  {
   "cell_type": "markdown",
   "id": "ff1fa757",
   "metadata": {
    "deletable": false,
    "editable": false,
    "nbgrader": {
     "cell_type": "markdown",
     "checksum": "c61607ea31fe5903f565e9df372d7d85",
     "grade": false,
     "grade_id": "cell-eff3fc4f15fc4ceb",
     "locked": true,
     "schema_version": 3,
     "solution": false,
     "task": false
    }
   },
   "source": [
    "### Tri fusion"
   ]
  },
  {
   "cell_type": "code",
   "execution_count": null,
   "id": "c07d410c",
   "metadata": {
    "deletable": false,
    "editable": false,
    "nbgrader": {
     "cell_type": "code",
     "checksum": "d2c1f0c66a11a43afd665ff4cb0a1b9e",
     "grade": false,
     "grade_id": "cell-666df28b39bf0104",
     "locked": true,
     "schema_version": 3,
     "solution": false,
     "task": false
    }
   },
   "outputs": [],
   "source": [
    "def fusion(L1,L2) :\n",
    "    \"\"\"\n",
    "    fusion(L1:list,L2:list)->Lfus:list\n",
    "    fusion retourne une seule liste ordonnée à partir de deux sous-listes ordonnées\n",
    "    préconditions : L1 et L2 sont triée dans l'ordre croissant\n",
    "    postconditions : 'Lfus' est triée dans l'ordre croissant (et len(Lfus)==len(L1)+len(L2))\n",
    "    \"\"\"\n",
    "    if L1 == [] :\n",
    "        return L2\n",
    "    if L2 == [] :\n",
    "        return L1\n",
    "    if L1[0] <= L2[0] : # devient instable si < au lieu de <= !\n",
    "        return [L1[0]] + fusion(L1[1:],L2)\n",
    "    else :\n",
    "        return [L2[0]] + fusion(L1,L2[1:])\n",
    "\n",
    "def tri_fusion(L) :\n",
    "    n = len(L)\n",
    "    if n <= 1 :\n",
    "        return L\n",
    "    else :\n",
    "        return fusion(tri_fusion(L[:n//2]),tri_fusion(L[n//2:]))"
   ]
  },
  {
   "cell_type": "markdown",
   "id": "f48e7f66",
   "metadata": {},
   "source": [
    "Combien de comparaisons effectue l'algorithme de tri fusion entre deux éléments de la liste pour ordonner `[1,2,3,4,5,6,7,8]` et `[8,7,6,5,4,3,2,1]` ? \n",
    "- A : 0 et 8\n",
    "- B : 8 et 16\n",
    "- C : 12 et 12\n",
    "- D : 16 et 8\n",
    "\n",
    "Vous pouvez trouver la réponse à la main, mais vous pouvez aussi intégrer à `fusion` une [variable globale](https://info-tsi-vieljeux.github.io/python/traitsgaux/#portée-lexicale)  `nb_comp` qui est incrémentée à chaque comparaison entre deux éléments de la liste.<br>\n",
    "Pensez à systématiquement réinitialisez `nb_comp` à 0 avant chaque appel de `tri_fusion`, car sinon la valeur continue à courir. C'est un des dangers de l'utilisation de variables globales dans les fonctions."
   ]
  },
  {
   "cell_type": "code",
   "execution_count": null,
   "id": "67694665",
   "metadata": {},
   "outputs": [],
   "source": [
    "# Affectez à la variable rep1 le caractère correspondant à votre réponse parmi 'A', 'B', 'C' ou 'D'\n",
    "rep1 = 'E'"
   ]
  },
  {
   "cell_type": "code",
   "execution_count": null,
   "id": "ff49ecd9",
   "metadata": {
    "deletable": false,
    "editable": false,
    "nbgrader": {
     "cell_type": "code",
     "checksum": "b6acaf403c9ecf7e3e644ba86765fb6a",
     "grade": true,
     "grade_id": "cell-1d88c23af8d068f0",
     "locked": true,
     "points": 1,
     "schema_version": 3,
     "solution": false,
     "task": false
    }
   },
   "outputs": [],
   "source": [
    "# Cellule de vérification, ne pas modifier !"
   ]
  },
  {
   "cell_type": "markdown",
   "id": "296bd377",
   "metadata": {
    "deletable": false,
    "editable": false,
    "nbgrader": {
     "cell_type": "markdown",
     "checksum": "2a27102da6bdf1b681048b5c1dc1d9bc",
     "grade": false,
     "grade_id": "cell-891191166e8c7681",
     "locked": true,
     "schema_version": 3,
     "solution": false,
     "task": false
    }
   },
   "source": [
    "### Tri par insertion"
   ]
  },
  {
   "cell_type": "markdown",
   "id": "3ff0a586",
   "metadata": {
    "deletable": false,
    "editable": false,
    "nbgrader": {
     "cell_type": "markdown",
     "checksum": "6a6480bc94c48cfcaed619c0df730145",
     "grade": false,
     "grade_id": "cell-4d8e3f70655d5f4b",
     "locked": true,
     "schema_version": 3,
     "solution": false,
     "task": false
    }
   },
   "source": [
    "On va écrire une version itérative de l'algorithme de tri par insertion.\n",
    "\n",
    "Son principe : on compare chacun des éléments `i` de la liste donnée en argument (à partir du deuxième) à ceux qui le précèdent en remontant la liste un par un (`i-1`,`i-2`,etc.). Tant qu'un des éléments qui précèdent est plus grand que l'élément `i`, on les permute, jusqu'à ce que l'élément `i` soit à la bonne place."
   ]
  },
  {
   "cell_type": "markdown",
   "id": "ad8334a3",
   "metadata": {
    "deletable": false,
    "editable": false,
    "nbgrader": {
     "cell_type": "markdown",
     "checksum": "77dd870eb8ec202202cc3537faeef6c6",
     "grade": false,
     "grade_id": "cell-fd644f4912959ede",
     "locked": true,
     "schema_version": 3,
     "solution": false,
     "task": false
    }
   },
   "source": [
    "Construisez d'abord une fonction `permute(L,i,j)` qui permute les éléments `i` et `j` d'une liste `L`.<br>"
   ]
  },
  {
   "cell_type": "code",
   "execution_count": null,
   "id": "777d4d9a",
   "metadata": {
    "deletable": false,
    "nbgrader": {
     "cell_type": "code",
     "checksum": "6b62d12febe198aed5ca73cbbc3f9397",
     "grade": false,
     "grade_id": "cell-cc3c0d3b6bbcc6c1",
     "locked": false,
     "schema_version": 3,
     "solution": true,
     "task": false
    }
   },
   "outputs": [],
   "source": [
    "def permute(L,i,j) :\n",
    "    \"\"\"\n",
    "    permute(L:list,i:int,j:int)->list\n",
    "    0 < i,j < len(L)\n",
    "    \"\"\"\n",
    "    # VOTRE CODE"
   ]
  },
  {
   "cell_type": "code",
   "execution_count": null,
   "id": "a0d9b6af",
   "metadata": {
    "deletable": false,
    "editable": false,
    "nbgrader": {
     "cell_type": "code",
     "checksum": "8e39c926d0af9f320d340aaba57edbf8",
     "grade": true,
     "grade_id": "cell-9451dd4020412879",
     "locked": true,
     "points": 1,
     "schema_version": 3,
     "solution": false,
     "task": false
    }
   },
   "outputs": [],
   "source": [
    "# Cellule de vérification, ne pas modifier !"
   ]
  },
  {
   "cell_type": "markdown",
   "id": "502dfaf8",
   "metadata": {
    "deletable": false,
    "editable": false,
    "nbgrader": {
     "cell_type": "markdown",
     "checksum": "104d708e64199a305bd54af3647d4784",
     "grade": false,
     "grade_id": "cell-c8aa4ac17bfec97c",
     "locked": true,
     "schema_version": 3,
     "solution": false,
     "task": false
    }
   },
   "source": [
    "Puis complétez la fonction `tri_insertion` en utilisant `permute`."
   ]
  },
  {
   "cell_type": "code",
   "execution_count": null,
   "id": "84f418c7",
   "metadata": {
    "deletable": false,
    "nbgrader": {
     "cell_type": "code",
     "checksum": "5f4629a7ae20e09842cd337fd364e428",
     "grade": false,
     "grade_id": "cell-3d5985e1ea0f9459",
     "locked": false,
     "schema_version": 3,
     "solution": true,
     "task": false
    }
   },
   "outputs": [],
   "source": [
    "def tri_insertion(L) :\n",
    "    \"\"\"\n",
    "    tri_insertion(L:list)->list\n",
    "    \"\"\"\n",
    "    for i in range(1,len(L)) :\n",
    "        j = i\n",
    "        X = L[i]\n",
    "        while j > 0 and L[j-1] > X :\n",
    "            # VOTRE CODE\n",
    "            j -= 1\n",
    "    return L"
   ]
  },
  {
   "cell_type": "code",
   "execution_count": null,
   "id": "57454f23",
   "metadata": {
    "deletable": false,
    "editable": false,
    "nbgrader": {
     "cell_type": "code",
     "checksum": "236ee469aeda0138704b02330bc9f07f",
     "grade": true,
     "grade_id": "cell-9c809bc5d2ef6647",
     "locked": true,
     "points": 1,
     "schema_version": 3,
     "solution": false,
     "task": false
    }
   },
   "outputs": [],
   "source": [
    "# Cellule de vérification, ne pas modifier !"
   ]
  },
  {
   "cell_type": "markdown",
   "id": "a3cab9f6",
   "metadata": {
    "deletable": false,
    "editable": false,
    "nbgrader": {
     "cell_type": "markdown",
     "checksum": "3d85afac920bb1bcef1a9736e537c892",
     "grade": false,
     "grade_id": "cell-1e69f9d97962073f",
     "locked": true,
     "schema_version": 3,
     "solution": false,
     "task": false
    }
   },
   "source": [
    "La cellule suivante permet de comparer le résultat de la fonction `tri_insertion` à la fonction native de tri `sorted` sur 1000 listes de 10 nombres tirés au hasard entre -5 et 5. Si pas d'`AssertionError`, a priori votre fonction fonctionne..."
   ]
  },
  {
   "cell_type": "code",
   "execution_count": null,
   "id": "120f570e",
   "metadata": {},
   "outputs": [],
   "source": [
    "from random import randint,shuffle\n",
    "for i in range(1000) :\n",
    "    L_desord = [randint(-5,5) for i in range(10)]\n",
    "    assert tri_insertion(L_desord) == sorted(L_desord), f\"y a un problème avec {L_desord} :\\ndonne {tri_insertion(L_desord)}\\nau lieu de {sorted(L_desord)}\""
   ]
  },
  {
   "cell_type": "markdown",
   "id": "4d9a0880",
   "metadata": {
    "deletable": false,
    "editable": false,
    "nbgrader": {
     "cell_type": "markdown",
     "checksum": "efe8a35224e3a347723ed2b86b6d7f0f",
     "grade": false,
     "grade_id": "cell-cdd4c3c2e7b30f80",
     "locked": true,
     "schema_version": 3,
     "solution": false,
     "task": false
    }
   },
   "source": [
    "Combien de comparaisons entre deux éléments de la liste effectue l'algorithme de tri insertion pour ordonner `[1,2,3,4,5,6,7,8]` et `[8,7,6,5,4,3,2,1]` ? \n",
    "- A : 7 et 28\n",
    "- B : 0 et 7\n",
    "- C : 28 et 28\n",
    "- D : 5 et 35"
   ]
  },
  {
   "cell_type": "code",
   "execution_count": null,
   "id": "28fd0906",
   "metadata": {},
   "outputs": [],
   "source": [
    "# Affectez à la variable rep2 le caractère correspondant à votre réponse parmi 'A', 'B', 'C' ou 'D'\n",
    "rep2 = 'E'"
   ]
  },
  {
   "cell_type": "code",
   "execution_count": null,
   "id": "f5596300",
   "metadata": {
    "deletable": false,
    "editable": false,
    "nbgrader": {
     "cell_type": "code",
     "checksum": "dc283b8c6638685cfbd5c5a8373e721d",
     "grade": true,
     "grade_id": "cell-f92d35b45e5b087f",
     "locked": true,
     "points": 1,
     "schema_version": 3,
     "solution": false,
     "task": false
    }
   },
   "outputs": [],
   "source": [
    "# Cellule de vérification, ne pas modifier !"
   ]
  },
  {
   "cell_type": "markdown",
   "id": "6ce9966b",
   "metadata": {
    "deletable": false,
    "editable": false,
    "nbgrader": {
     "cell_type": "markdown",
     "checksum": "6a28a94b76e277771f6cb7c1bd78e60b",
     "grade": false,
     "grade_id": "cell-fe843f2f1ebed96b",
     "locked": true,
     "schema_version": 3,
     "solution": false,
     "task": false
    }
   },
   "source": [
    "Combien de comparaisons demande le tri par insertion d'une liste de 200 éléments rangés en ordre inverse ?"
   ]
  },
  {
   "cell_type": "code",
   "execution_count": null,
   "id": "989e7c4e",
   "metadata": {},
   "outputs": [],
   "source": [
    "# Affectez à la variable nb1 l'entier correspondant à votre réponse\n",
    "nb1 = 0"
   ]
  },
  {
   "cell_type": "code",
   "execution_count": null,
   "id": "38380989",
   "metadata": {
    "deletable": false,
    "editable": false,
    "nbgrader": {
     "cell_type": "code",
     "checksum": "971d81b8dd4ae2cf60ae8dbf896657e9",
     "grade": true,
     "grade_id": "cell-1dbe6735a05c9d8a",
     "locked": true,
     "points": 1,
     "schema_version": 3,
     "solution": false,
     "task": false
    }
   },
   "outputs": [],
   "source": [
    "# Cellule de vérification, ne pas modifier !"
   ]
  },
  {
   "cell_type": "markdown",
   "id": "7142155d",
   "metadata": {
    "deletable": false,
    "editable": false,
    "nbgrader": {
     "cell_type": "markdown",
     "checksum": "bb82595c2bae42d2ce99073461a15d57",
     "grade": false,
     "grade_id": "cell-c4e1d0b85dcc401b",
     "locked": true,
     "schema_version": 3,
     "solution": false,
     "task": false
    }
   },
   "source": [
    "### Tri par sélection"
   ]
  },
  {
   "cell_type": "markdown",
   "id": "754c9293",
   "metadata": {
    "deletable": false,
    "editable": false,
    "nbgrader": {
     "cell_type": "markdown",
     "checksum": "7f396f1a7c93c7d0e95367d1a7b120c0",
     "grade": false,
     "grade_id": "cell-342663c123659373",
     "locked": true,
     "schema_version": 3,
     "solution": false,
     "task": false
    }
   },
   "source": [
    "Principe : \n",
    "- parmi les éléments de la liste, on cherche le plus petit, et on le permute avec le premier élément \n",
    "- puis on recommence avec tous les éléments restants (tous moins le premier) : on cherche le plus petit et on le permute avec le deuxième élément\n",
    "- on recommence jusqu'à épuiser la liste"
   ]
  },
  {
   "cell_type": "markdown",
   "id": "ecca3b4d",
   "metadata": {
    "deletable": false,
    "editable": false,
    "nbgrader": {
     "cell_type": "markdown",
     "checksum": "ece62bac57286d91592e5939a2a7d747",
     "grade": false,
     "grade_id": "cell-9313308681570a8d",
     "locked": true,
     "schema_version": 3,
     "solution": false,
     "task": false
    }
   },
   "source": [
    "fonction tri_selection(liste L)<br>\n",
    "&nbsp;&nbsp;&nbsp;&nbsp;n ← longueur(L)<br>\n",
    "&nbsp;&nbsp;&nbsp;&nbsp;pour i de 0 à n - 2<br>\n",
    "&nbsp;&nbsp;&nbsp;&nbsp;&nbsp;&nbsp;&nbsp;&nbsp;min ← i<br>\n",
    "&nbsp;&nbsp;&nbsp;&nbsp;&nbsp;&nbsp;&nbsp;&nbsp;&nbsp;&nbsp;&nbsp;&nbsp;pour j de i + 1 à n - 1<br>\n",
    "&nbsp;&nbsp;&nbsp;&nbsp;&nbsp;&nbsp;&nbsp;&nbsp;&nbsp;&nbsp;&nbsp;&nbsp;&nbsp;&nbsp;&nbsp;&nbsp;si L[j] < L[min], alors min ← j<br>\n",
    "&nbsp;&nbsp;&nbsp;&nbsp;&nbsp;&nbsp;&nbsp;&nbsp;&nbsp;&nbsp;&nbsp;&nbsp;fin pour<br>\n",
    "&nbsp;&nbsp;&nbsp;&nbsp;&nbsp;&nbsp;&nbsp;&nbsp;si min ≠ i, alors échanger L[i] et L[min]<br>\n",
    "&nbsp;&nbsp;&nbsp;&nbsp;fin pour<br>\n",
    "&nbsp;&nbsp;&nbsp;&nbsp;retourner L<br>\n",
    "fin fonction"
   ]
  },
  {
   "cell_type": "markdown",
   "id": "765b1670",
   "metadata": {
    "deletable": false,
    "editable": false,
    "nbgrader": {
     "cell_type": "markdown",
     "checksum": "e847b79b199b7e738b0d0035258607dc",
     "grade": false,
     "grade_id": "cell-d518302d90a46c43",
     "locked": true,
     "schema_version": 3,
     "solution": false,
     "task": false
    }
   },
   "source": [
    "Traduisez le peudocode ci-dessus en python."
   ]
  },
  {
   "cell_type": "code",
   "execution_count": null,
   "id": "8efa5e0b",
   "metadata": {
    "deletable": false,
    "nbgrader": {
     "cell_type": "code",
     "checksum": "cb3d6ba859d6ce7aa0cfadf6dd62a37b",
     "grade": false,
     "grade_id": "cell-620f15f42c4aedfe",
     "locked": false,
     "schema_version": 3,
     "solution": true,
     "task": false
    }
   },
   "outputs": [],
   "source": [
    "def tri_selection(L) :\n",
    "    # VOTRE CODE"
   ]
  },
  {
   "cell_type": "code",
   "execution_count": null,
   "id": "288ebcfb",
   "metadata": {
    "deletable": false,
    "editable": false,
    "nbgrader": {
     "cell_type": "code",
     "checksum": "99a4305307b9d20b9713dcefb9e0af29",
     "grade": false,
     "grade_id": "cell-e28e29bd88783b78",
     "locked": true,
     "schema_version": 3,
     "solution": false,
     "task": false
    }
   },
   "outputs": [],
   "source": [
    "# cellule de test pour votre fonction\n"
   ]
  },
  {
   "cell_type": "code",
   "execution_count": null,
   "id": "b0811ba6",
   "metadata": {
    "deletable": false,
    "editable": false,
    "nbgrader": {
     "cell_type": "code",
     "checksum": "d96a41f1d38d733c56ba743a0bf40ebe",
     "grade": true,
     "grade_id": "cell-2d8e436737b0d06c",
     "locked": true,
     "points": 1,
     "schema_version": 3,
     "solution": false,
     "task": false
    }
   },
   "outputs": [],
   "source": [
    "# Cellule de vérification, ne pas modifier !"
   ]
  },
  {
   "cell_type": "markdown",
   "id": "addaecfd",
   "metadata": {
    "deletable": false,
    "editable": false,
    "nbgrader": {
     "cell_type": "markdown",
     "checksum": "27d77d959ac32e5a73a2ba15a28dbc4a",
     "grade": false,
     "grade_id": "cell-992187b19099569f",
     "locked": true,
     "schema_version": 3,
     "solution": false,
     "task": false
    }
   },
   "source": [
    "Combien de comparaisons effectue l'algorithme de tri par sélection pour ordonner `[1,2,3,4,5,6,7,8]` et `[8,7,6,5,4,3,2,1]` ? \n",
    "- A : 7 et 28\n",
    "- B : 0 et 7\n",
    "- C : 28 et 28\n",
    "- D : 5 et 35"
   ]
  },
  {
   "cell_type": "code",
   "execution_count": null,
   "id": "c9249e95",
   "metadata": {},
   "outputs": [],
   "source": [
    "# Affectez à la variable rep3 le caractère correspondant à votre réponse parmi 'A', 'B', 'C' ou 'D'\n",
    "rep3 = 'E'"
   ]
  },
  {
   "cell_type": "code",
   "execution_count": null,
   "id": "fb036723",
   "metadata": {
    "deletable": false,
    "editable": false,
    "nbgrader": {
     "cell_type": "code",
     "checksum": "5b4727597175390672a8f0c1d3699ce4",
     "grade": true,
     "grade_id": "cell-c04e7b81e0313cb5",
     "locked": true,
     "points": 1,
     "schema_version": 3,
     "solution": false,
     "task": false
    }
   },
   "outputs": [],
   "source": [
    "# Cellule de vérification, ne pas modifier !"
   ]
  },
  {
   "cell_type": "markdown",
   "id": "1261d484",
   "metadata": {
    "deletable": false,
    "editable": false,
    "nbgrader": {
     "cell_type": "markdown",
     "checksum": "bbe8d4583806d3584a64b7976f82ab38",
     "grade": false,
     "grade_id": "cell-cef9f7da7f037ce1",
     "locked": true,
     "schema_version": 3,
     "solution": false,
     "task": false
    }
   },
   "source": [
    "Le tri par sélection ressemble beaucoup au tri par insertion. Dans les deux, après k traversées de la liste, les k premiers éléments sont triés. Cependant la différence fondamentale entre les deux algorithmes est le sens dans lequel ces tris s'opèrent ; le tri par insertion trie de la fin vers le début alors que le tri par sélection trie du début vers la fin. Conséquence : dans le tri par sélection, les k premiers éléments de la liste en cours de tri sont les plus petits de la liste entière alors que dans le tri par insertion, ce sont seulement les k premiers éléments d'origine triés.\n",
    "\n",
    "Le tri par sélection doit toujours inspecter tous les éléments restant pour trouver le plus petit, tandis que le tri par insertion ne requiert qu'une seule comparaison quand le (k+1)<sup>e</sup> élément est plus grand que le k<sup>e</sup> ; lorsque c'est fréquent (si la liste est déjà partiellement triée), le tri par insertion est bien plus efficace. En moyenne, le tri par insertion nécessite de comparer et décaler la moitié des éléments seulement, ce qui correspond donc à la moitié des comparaisons que le tri par sélection doit faire.\n",
    "\n",
    "Dans le pire des cas pour le tri par insertion (liste triée en sens inverse), les deux tris opèrent autant d'opérations l'un que l'autre, mais le tri par insertion va nécessiter plus de permutations puisqu'il décale toujours d'une position voisine à l'autre. Le dernier élément d'une liste renversée, par exemple, va devoir traverser toute la liste en échangeant sa place avec chacun des éléments qui le précèdent, alors qu'avec le tri par sélection, il n'y a jamais au plus qu'une permutation par élément. \n",
    "\n",
    "En général, le tri par insertion va écrire dans la liste $O(n^2)$ fois (chaque permutation écrit dans la liste), alors que le tri par sélection va écrire seulement $O(n)$ fois. Pour cette raison, le tri par sélection peut être préférable au tri par insertion lorsque l'écriture sur la mémoire est significativement plus coûteuse que la lecture (comme sur les EEPROM ou sur les mémoires flash). Ce point est illustré dans l'animation interactive du début car limiter les permutations y correspond à limiter les déplacements, ce qui donne l'illusion d'un algorithme plus rapide."
   ]
  },
  {
   "cell_type": "markdown",
   "id": "65626dd9",
   "metadata": {
    "deletable": false,
    "editable": false,
    "nbgrader": {
     "cell_type": "markdown",
     "checksum": "45bd952719b1ce72072fda2c5c4460b9",
     "grade": false,
     "grade_id": "cell-60de84ec318bcf9a",
     "locked": true,
     "schema_version": 3,
     "solution": false,
     "task": false
    }
   },
   "source": [
    "### Tri à bulles"
   ]
  },
  {
   "cell_type": "markdown",
   "id": "17037c3b",
   "metadata": {
    "deletable": false,
    "editable": false,
    "nbgrader": {
     "cell_type": "markdown",
     "checksum": "05789382b53012bb8b849e5aa33e50a4",
     "grade": false,
     "grade_id": "cell-6c45ac92edddd7f6",
     "locked": true,
     "schema_version": 3,
     "solution": false,
     "task": false
    }
   },
   "source": [
    "Le tri à bulles est surtout à visée pédagogique, il ne sert quasiment jamais réellement. Il tire son nom du fait qu'on pousse vers la fin de la liste, de proche en proche, des éléments de plus en plus grands, comme une bulle qui grossit en remontant à la surface."
   ]
  },
  {
   "cell_type": "code",
   "execution_count": null,
   "id": "184e0645",
   "metadata": {
    "deletable": false,
    "editable": false,
    "nbgrader": {
     "cell_type": "code",
     "checksum": "e9d8508d764303fbe75f66920671d363",
     "grade": false,
     "grade_id": "cell-eba7ef7db0f892a1",
     "locked": true,
     "schema_version": 3,
     "solution": false,
     "task": false
    }
   },
   "outputs": [],
   "source": [
    "def tri_a_bulles(L) :\n",
    "    n = len(L)\n",
    "    for i in range(n-1) :\n",
    "        for j in range(n-i-1) :\n",
    "            if L[j] > L[j+1] :\n",
    "                L = permute(L,j,j+1)\n",
    "    return L"
   ]
  },
  {
   "cell_type": "markdown",
   "id": "9f97fe32",
   "metadata": {
    "deletable": false,
    "editable": false,
    "nbgrader": {
     "cell_type": "markdown",
     "checksum": "bdca7d02cd26ac5d3208d5e1f5451ada",
     "grade": false,
     "grade_id": "cell-45d9a25c7210b249",
     "locked": true,
     "schema_version": 3,
     "solution": false,
     "task": false
    }
   },
   "source": [
    "Combien de comparaisons effectue l'algorithme de tri à bulles pour ordonner `[1,2,3,4,5,6,7,8]` et `[8,7,6,5,4,3,2,1]` ? \n",
    "- A : 7 et 28\n",
    "- B : 0 et 7\n",
    "- C : 28 et 28\n",
    "- D : 5 et 35"
   ]
  },
  {
   "cell_type": "code",
   "execution_count": null,
   "id": "4864939c",
   "metadata": {},
   "outputs": [],
   "source": [
    "# Affectez à la variable rep4 le caractère correspondant à votre réponse parmi 'A', 'B', 'C' ou 'D'\n",
    "rep4 = 'E'"
   ]
  },
  {
   "cell_type": "code",
   "execution_count": null,
   "id": "1cc25a2c",
   "metadata": {
    "deletable": false,
    "editable": false,
    "nbgrader": {
     "cell_type": "code",
     "checksum": "907b46afd62181aa4c50734d65b09913",
     "grade": true,
     "grade_id": "cell-730f28cbd562bda2",
     "locked": true,
     "points": 1,
     "schema_version": 3,
     "solution": false,
     "task": false
    }
   },
   "outputs": [],
   "source": [
    "# Cellule de vérification, ne pas modifier !"
   ]
  },
  {
   "cell_type": "markdown",
   "id": "8fb0764f",
   "metadata": {
    "deletable": false,
    "editable": false,
    "nbgrader": {
     "cell_type": "markdown",
     "checksum": "f5fcdef4a3ca4b39f365b587ff765e84",
     "grade": false,
     "grade_id": "cell-ad202b3dbb279466",
     "locked": true,
     "schema_version": 3,
     "solution": false,
     "task": false
    }
   },
   "source": [
    "Combien de comparaisons demande le tri à bulles d'une liste de 200 éléments rangés en ordre inverse ?"
   ]
  },
  {
   "cell_type": "code",
   "execution_count": null,
   "id": "a228464b",
   "metadata": {},
   "outputs": [],
   "source": [
    "# Affectez à la variable nb2 l'entier correspondant à votre réponse\n",
    "nb2 = 0"
   ]
  },
  {
   "cell_type": "code",
   "execution_count": null,
   "id": "8a3040ef",
   "metadata": {
    "deletable": false,
    "editable": false,
    "nbgrader": {
     "cell_type": "code",
     "checksum": "58d063bacb022b16d93c5c5938e45f81",
     "grade": true,
     "grade_id": "cell-56dfe09268e85a56",
     "locked": true,
     "points": 1,
     "schema_version": 3,
     "solution": false,
     "task": false
    }
   },
   "outputs": [],
   "source": [
    "# Cellule de vérification, ne pas modifier !"
   ]
  },
  {
   "cell_type": "markdown",
   "id": "fe22413c",
   "metadata": {
    "deletable": false,
    "editable": false,
    "nbgrader": {
     "cell_type": "markdown",
     "checksum": "66f9246e3ffedefd5c3a2b10acca440f",
     "grade": false,
     "grade_id": "cell-77f832eb2f9c6ca1",
     "locked": true,
     "schema_version": 3,
     "solution": false,
     "task": false
    }
   },
   "source": [
    "### Tri rapide"
   ]
  },
  {
   "cell_type": "markdown",
   "id": "40c19acc",
   "metadata": {
    "deletable": false,
    "editable": false,
    "nbgrader": {
     "cell_type": "markdown",
     "checksum": "2656f43cf1a71fc7d2a146377b27b90d",
     "grade": false,
     "grade_id": "cell-075df746b6994676",
     "locked": true,
     "schema_version": 3,
     "solution": false,
     "task": false
    }
   },
   "source": [
    "Le tri rapide n'est pas toujours le plus rapide... Mais il peut l'être (surtout sur les grandes listes) !<br>\n",
    "C'est un algorithme récursif utilisant une partition de la liste à trier.<br>\n",
    "Son avantage sur le tri fusion est d'être un tri en place.<br>\n",
    "Désavantage : il est instable."
   ]
  },
  {
   "cell_type": "code",
   "execution_count": null,
   "id": "6d418738",
   "metadata": {},
   "outputs": [],
   "source": [
    "YouTubeVideo('Cubuk-9gzvk', width=960, height=720)"
   ]
  },
  {
   "cell_type": "code",
   "execution_count": null,
   "id": "9b881994",
   "metadata": {},
   "outputs": [],
   "source": [
    "from random import randint\n",
    "\n",
    "def partition(L, g, d) :\n",
    "    p = L[g]\n",
    "    i = g+1\n",
    "    for j in range(g+1,d+1) :\n",
    "        if L[j] < p :\n",
    "            permute(L,i,j)\n",
    "            i += 1\n",
    "    permute(L,g,i-1)\n",
    "    return i-1\n",
    "\n",
    "def tri_rapide(L, g, d) :\n",
    "    if g < d : \n",
    "        pivot = randint(g,d)\n",
    "        permute(L,pivot,g)\n",
    "        pivot = partition(L, g, d)\n",
    "        tri_rapide(L, g, pivot-1)\n",
    "        tri_rapide(L, pivot+1, d)\n",
    "    return L"
   ]
  },
  {
   "cell_type": "code",
   "execution_count": null,
   "id": "f32236ca",
   "metadata": {},
   "outputs": [],
   "source": [
    "L = [3,8,3,2,5,1,4,7,6]\n",
    "partition(L,0,8)\n",
    "tri_rapide(L, 0, 8)"
   ]
  },
  {
   "cell_type": "markdown",
   "id": "1d98beb6",
   "metadata": {
    "deletable": false,
    "editable": false,
    "nbgrader": {
     "cell_type": "markdown",
     "checksum": "9680785231613b3789501d28ba335428",
     "grade": false,
     "grade_id": "cell-2f112fc2dc5bc32a",
     "locked": true,
     "schema_version": 3,
     "solution": false,
     "task": false
    }
   },
   "source": [
    "![](http://cordier-phychi.toile-libre.org/Info/github/fusrap.png)"
   ]
  },
  {
   "cell_type": "markdown",
   "id": "44dfbce2",
   "metadata": {
    "deletable": false,
    "editable": false,
    "nbgrader": {
     "cell_type": "markdown",
     "checksum": "09439f5918b854031ebc0ee068989a54",
     "grade": false,
     "grade_id": "cell-ba20297d58233286",
     "locked": true,
     "schema_version": 3,
     "solution": false,
     "task": false
    }
   },
   "source": [
    "La figure précédente permet de supposer que la complexité dans le pire des cas du tri fusion est égale à sa complexité dans le meilleur des cas et à la complexité en moyenne du tri rapide."
   ]
  },
  {
   "cell_type": "markdown",
   "id": "5f34a819",
   "metadata": {
    "deletable": false,
    "editable": false,
    "nbgrader": {
     "cell_type": "markdown",
     "checksum": "ad65d7a3171685fdb41e45686d3910c7",
     "grade": false,
     "grade_id": "cell-d4f994091065c08c",
     "locked": true,
     "schema_version": 3,
     "solution": false,
     "task": false
    }
   },
   "source": [
    "Grâce aux listes par compréhension, on peut écrire une version beaucoup plus courte et claire du tri rapide. Son défaut est qu'elle nécessite la construction de nouvelles listes (le tri n'est alors plus en place !).<br>\n",
    "On va visualiser les différents appels récursifs grâce au module introduit dans le TP précédent et pour que l'analyse soit simple, on choisit systématiquement le premier élément de la liste comme pivot."
   ]
  },
  {
   "cell_type": "markdown",
   "id": "1b51a777",
   "metadata": {
    "deletable": false,
    "editable": false,
    "nbgrader": {
     "cell_type": "markdown",
     "checksum": "8f47c8bdb09d86acd191a4d864dd39e3",
     "grade": false,
     "grade_id": "cell-d746c1fb03ead0b8",
     "locked": true,
     "schema_version": 3,
     "solution": false,
     "task": false
    }
   },
   "source": [
    "La vidéo suivante montre une implémentation de cette version avec des danseurs hongrois..."
   ]
  },
  {
   "cell_type": "code",
   "execution_count": null,
   "id": "2ecb10f3",
   "metadata": {
    "deletable": false,
    "editable": false,
    "nbgrader": {
     "cell_type": "code",
     "checksum": "ef7079beb50db2f5487ec3ada9286f79",
     "grade": false,
     "grade_id": "cell-d120040ad9d0a916",
     "locked": true,
     "schema_version": 3,
     "solution": false,
     "task": false
    }
   },
   "outputs": [],
   "source": [
    "from IPython.display import YouTubeVideo\n",
    "YouTubeVideo('ywWBy6J5gz8', width=960, height=720)"
   ]
  },
  {
   "cell_type": "code",
   "execution_count": null,
   "id": "b1d55a4a",
   "metadata": {
    "deletable": false,
    "editable": false,
    "nbgrader": {
     "cell_type": "code",
     "checksum": "c7fcef62591afb550faf2c0e2ce7d44a",
     "grade": false,
     "grade_id": "cell-0c9583ff75416d15",
     "locked": true,
     "schema_version": 3,
     "solution": false,
     "task": false
    }
   },
   "outputs": [],
   "source": [
    "%%capture\n",
    "!pip install recursionvisualisation==0.2"
   ]
  },
  {
   "cell_type": "code",
   "execution_count": null,
   "id": "5cca6af6",
   "metadata": {
    "deletable": false,
    "editable": false,
    "nbgrader": {
     "cell_type": "code",
     "checksum": "23cebaa56a7dd2ed22ac5c76a9bae59f",
     "grade": false,
     "grade_id": "cell-7009e9432768a3d2",
     "locked": true,
     "schema_version": 3,
     "solution": false,
     "task": false
    }
   },
   "outputs": [],
   "source": [
    "from recursionvisualisation import viz, CallGraph"
   ]
  },
  {
   "cell_type": "code",
   "execution_count": null,
   "id": "67527241",
   "metadata": {
    "deletable": false,
    "editable": false,
    "nbgrader": {
     "cell_type": "code",
     "checksum": "03729cb73f6dfcf3a64cd05cff40de2d",
     "grade": false,
     "grade_id": "cell-dca5c23f75c6ce56",
     "locked": true,
     "schema_version": 3,
     "solution": false,
     "task": false
    }
   },
   "outputs": [],
   "source": [
    "cg = CallGraph()\n",
    "@viz(cg)\n",
    "\n",
    "def triRapide(elements) :\n",
    "    if len(elements) <= 1 :\n",
    "        return elements\n",
    "    else : \n",
    "        pivot = elements[0]\n",
    "        plusPetit = triRapide([e for e in elements[1:] if e <= pivot])\n",
    "        plusGrand = triRapide([e for e in elements[1:] if e > pivot])\n",
    "        return plusPetit + [pivot] + plusGrand"
   ]
  },
  {
   "cell_type": "code",
   "execution_count": null,
   "id": "ea64bf65",
   "metadata": {},
   "outputs": [],
   "source": [
    "print(triRapide(\"hanniballecter\"))\n",
    "cg"
   ]
  },
  {
   "cell_type": "markdown",
   "id": "fe696ae7",
   "metadata": {
    "deletable": false,
    "editable": false,
    "nbgrader": {
     "cell_type": "markdown",
     "checksum": "2ccb33356a045772fca3fca5769bc03a",
     "grade": false,
     "grade_id": "cell-8f1d01b8bd0bac3d",
     "locked": true,
     "schema_version": 3,
     "solution": false,
     "task": false
    }
   },
   "source": [
    "Placer le pivot en premier élément a un inconvénient : `triRapide` devient très lent avec les listes déjà triées (ou quasi triées).<br>\n",
    "Quelle sera la taille de la pile d'exécution si on donne en argument à `triRapide` une liste déjà triée de 500 éléments ?"
   ]
  },
  {
   "cell_type": "code",
   "execution_count": null,
   "id": "dbb0927a",
   "metadata": {},
   "outputs": [],
   "source": [
    "# Affectez à la variable nb3 l'entier correspondant à votre réponse\n",
    "nb3 = 0"
   ]
  },
  {
   "cell_type": "code",
   "execution_count": null,
   "id": "186a47cd",
   "metadata": {
    "deletable": false,
    "editable": false,
    "nbgrader": {
     "cell_type": "code",
     "checksum": "52a1fea189df514fd8c3606f522418e8",
     "grade": true,
     "grade_id": "cell-f7c0e41d98be1ddf",
     "locked": true,
     "points": 1,
     "schema_version": 3,
     "solution": false,
     "task": false
    }
   },
   "outputs": [],
   "source": [
    "# Cellule de vérification, ne pas modifier !"
   ]
  },
  {
   "cell_type": "markdown",
   "id": "99b2fa89",
   "metadata": {
    "deletable": false,
    "editable": false,
    "nbgrader": {
     "cell_type": "markdown",
     "checksum": "7c3d8df86a54fde7a2810b9be73b3353",
     "grade": false,
     "grade_id": "cell-032be1e3e9e21a96",
     "locked": true,
     "schema_version": 3,
     "solution": false,
     "task": false
    }
   },
   "source": [
    "  ---"
   ]
  },
  {
   "cell_type": "markdown",
   "id": "29baeb13",
   "metadata": {
    "deletable": false,
    "editable": false,
    "nbgrader": {
     "cell_type": "markdown",
     "checksum": "7f9aa473346775c6cd23d94056c526b8",
     "grade": false,
     "grade_id": "cell-9dc0ee6cdfe99777",
     "locked": true,
     "schema_version": 3,
     "solution": false,
     "task": false
    }
   },
   "source": [
    "Les tris par comparaison n'ont que faire de la nature des éléments de la liste à trier du moment qu'on peut les comparer entre eux. On peut ainsi trier tout aussi bien des chaînes de caractères que des flottants.<br>\n",
    "Par contre, si les éléments de la liste sont contraints d'une façon ou d'une autre, on peut essayer de tirer parti de la situation."
   ]
  },
  {
   "cell_type": "markdown",
   "id": "a49d6e5a",
   "metadata": {
    "deletable": false,
    "editable": false,
    "nbgrader": {
     "cell_type": "markdown",
     "checksum": "022a25b68cb79eee76820d4a4f2fd708",
     "grade": false,
     "grade_id": "cell-9b369c920fef1b03",
     "locked": true,
     "schema_version": 3,
     "solution": false,
     "task": false
    }
   },
   "source": [
    " ## Tris non comparatifs"
   ]
  },
  {
   "cell_type": "markdown",
   "id": "d5d33d56",
   "metadata": {
    "deletable": false,
    "editable": false,
    "nbgrader": {
     "cell_type": "markdown",
     "checksum": "6d8f45018b5f103e62e0f38e497c37a6",
     "grade": false,
     "grade_id": "cell-3fd394b6495fa93a",
     "locked": true,
     "schema_version": 3,
     "solution": false,
     "task": false
    }
   },
   "source": [
    "### Tri par dénombrement (ou par comptage)"
   ]
  },
  {
   "cell_type": "markdown",
   "id": "87d4f8f8",
   "metadata": {},
   "source": [
    "Si la liste à trier n'est constituée que d'entiers positifs, on peut mettre au point un tri très rapide n'utilisant aucune comparaison : le tri par dénombrement (counting sort)."
   ]
  },
  {
   "cell_type": "markdown",
   "id": "3ca63ff9",
   "metadata": {
    "deletable": false,
    "editable": false,
    "nbgrader": {
     "cell_type": "markdown",
     "checksum": "f5d9ec18d11068eedd50b553baa18ce9",
     "grade": false,
     "grade_id": "cell-ef29dea4088ab298",
     "locked": true,
     "schema_version": 3,
     "solution": false,
     "task": false
    }
   },
   "source": [
    "Principe : on construit un histogramme des valeurs de la liste à trier `L` dans une liste intermédiaire `L_eff`.\n",
    "- Si `m` est la plus grande valeur des éléments de la liste à trier, alors la taille de `L_eff` doit valoir `m+1`. Et on initialise toutes ses valeurs à zéros. Chaque valeur `L[i]` de la liste à trier est donc aussi un indice de la liste `L_eff` !\n",
    "- On parcourt ensuite la liste à trier et on incrémente de 1 la valeur de l'élément `L_eff[L[i]]` de la liste intermédiaire. On obtient bien ainsi les effectifs pour chaque valeur de la liste à trier.\n",
    "- Il suffit enfin de parcourir `L_eff` depuis le début et pour chaque élément `L_eff[i]` non nul, d'ajouter à une nouvelle liste `L_sortie` autant de fois `i` que la valeur de `L[i]`.\n",
    "- Plus qu'à retourner `L_sortie`."
   ]
  },
  {
   "cell_type": "markdown",
   "id": "9af7d515",
   "metadata": {
    "deletable": false,
    "editable": false,
    "nbgrader": {
     "cell_type": "markdown",
     "checksum": "321fcb16241df915c8ec2600900d4d7d",
     "grade": false,
     "grade_id": "cell-5c8578449f43f8f4",
     "locked": true,
     "schema_version": 3,
     "solution": false,
     "task": false
    }
   },
   "source": [
    "Implémentez la fonction `tri_par_denombrement` telle qu'elle est décrite ci-dessus."
   ]
  },
  {
   "cell_type": "code",
   "execution_count": null,
   "id": "223a3594",
   "metadata": {
    "deletable": false,
    "nbgrader": {
     "cell_type": "code",
     "checksum": "a1dd95eb3e16aa03f76ffec440687a9d",
     "grade": false,
     "grade_id": "cell-cc56f4b160c03887",
     "locked": false,
     "schema_version": 3,
     "solution": true,
     "task": false
    }
   },
   "outputs": [],
   "source": [
    "def tri_par_denombrement(L,m) :\n",
    "    \"\"\"\n",
    "    tri_par_denombrement(L:list,m:int)->L_sortie:list\n",
    "    m est la valeur maximum des éléments de L \n",
    "    \"\"\"\n",
    "    # VOTRE CODE"
   ]
  },
  {
   "cell_type": "code",
   "execution_count": null,
   "id": "5125ac88",
   "metadata": {},
   "outputs": [],
   "source": [
    "# cellule pour tester votre fonction\n"
   ]
  },
  {
   "cell_type": "code",
   "execution_count": null,
   "id": "82fc6221",
   "metadata": {
    "deletable": false,
    "editable": false,
    "nbgrader": {
     "cell_type": "code",
     "checksum": "23cf631a13bd1c7f458457044e3c1c64",
     "grade": true,
     "grade_id": "cell-90f11072fbaa7e96",
     "locked": true,
     "points": 1,
     "schema_version": 3,
     "solution": false,
     "task": false
    }
   },
   "outputs": [],
   "source": [
    "# Cellule de vérification, ne pas modifier !"
   ]
  },
  {
   "cell_type": "markdown",
   "id": "9bd74ea6",
   "metadata": {
    "deletable": false,
    "editable": false,
    "nbgrader": {
     "cell_type": "markdown",
     "checksum": "489402eb1cfcabe39d9616a3d2f7d0b6",
     "grade": false,
     "grade_id": "cell-6a738a8e6c46e3de",
     "locked": true,
     "schema_version": 3,
     "solution": false,
     "task": false
    }
   },
   "source": [
    "Le nombre d'étapes de `tri_denombrement` peut s'écrire en fonction du nombre d'éléments `n` de la liste comme :\n",
    "- A : $a$\n",
    "- B : $a\\times n + b$\n",
    "- C : $a\\times n^2+b\\times n + c$\n",
    "- D : $a\\times n^3+b\\times n^2 + c\\times n + d$"
   ]
  },
  {
   "cell_type": "code",
   "execution_count": null,
   "id": "6c3ef64b",
   "metadata": {},
   "outputs": [],
   "source": [
    "# Affectez à la variable rep5 le caractère correspondant à votre réponse parmi 'A', 'B', 'C' ou 'D'\n",
    "rep5 = 'E'"
   ]
  },
  {
   "cell_type": "code",
   "execution_count": null,
   "id": "4e226e20",
   "metadata": {
    "deletable": false,
    "editable": false,
    "nbgrader": {
     "cell_type": "code",
     "checksum": "16cd75291ff08a2c6c7cfc23b181a5ca",
     "grade": true,
     "grade_id": "cell-612d5216f388c9c3",
     "locked": true,
     "points": 1,
     "schema_version": 3,
     "solution": false,
     "task": false
    }
   },
   "outputs": [],
   "source": [
    "# Cellule de vérification, ne pas modifier !"
   ]
  },
  {
   "cell_type": "markdown",
   "id": "92bef59b",
   "metadata": {
    "deletable": false,
    "editable": false,
    "nbgrader": {
     "cell_type": "markdown",
     "checksum": "bf4655af79524c6d857c2c5c13ec4fc4",
     "grade": false,
     "grade_id": "cell-4efc217a37f4855f",
     "locked": true,
     "schema_version": 3,
     "solution": false,
     "task": false
    }
   },
   "source": [
    " "
   ]
  },
  {
   "cell_type": "markdown",
   "id": "b1161e99",
   "metadata": {
    "deletable": false,
    "editable": false,
    "nbgrader": {
     "cell_type": "markdown",
     "checksum": "36a9ccda812b120690567c4422de2ed7",
     "grade": false,
     "grade_id": "cell-e4b6e1565de5360f",
     "locked": true,
     "schema_version": 3,
     "solution": false,
     "task": false
    }
   },
   "source": [
    "## Comparer les tris"
   ]
  },
  {
   "cell_type": "markdown",
   "id": "eac88336",
   "metadata": {
    "deletable": false,
    "editable": false,
    "nbgrader": {
     "cell_type": "markdown",
     "checksum": "600b662bf9334081aa9156dd5ad634ec",
     "grade": false,
     "grade_id": "cell-bd3005555f6b741e",
     "locked": true,
     "schema_version": 3,
     "solution": false,
     "task": false
    }
   },
   "source": [
    "Essayons maintenant de classer ces tris suivant différents critères.<br>\n",
    "Commençons par ce qui est souvent le plus critique : leur complexité en temps. À quoi doit-on s'attendre lorsque la taille de la liste à trier prend un facteur d'échelle (lorsqu'elle est multipliée par 2 ou par 10) ?"
   ]
  },
  {
   "cell_type": "markdown",
   "id": "cb40e784",
   "metadata": {
    "deletable": false,
    "editable": false,
    "nbgrader": {
     "cell_type": "markdown",
     "checksum": "0524feb9baf57c919e157423cdbc1354",
     "grade": false,
     "grade_id": "cell-7602cf8f38ae8b59",
     "locked": true,
     "schema_version": 3,
     "solution": false,
     "task": false
    }
   },
   "source": [
    "### Complexité en temps"
   ]
  },
  {
   "cell_type": "markdown",
   "id": "d94d969b",
   "metadata": {
    "deletable": false,
    "editable": false,
    "nbgrader": {
     "cell_type": "markdown",
     "checksum": "b80a1a611978f0be983bdf53dc9f7f13",
     "grade": false,
     "grade_id": "cell-12357fa6bb36d48f",
     "locked": true,
     "schema_version": 3,
     "solution": false,
     "task": false
    }
   },
   "source": [
    "Le graphe suivant présente le temps mis par les différents algorithmes pour trier des listes de taille croissante."
   ]
  },
  {
   "cell_type": "markdown",
   "id": "be392cf3",
   "metadata": {
    "deletable": false,
    "editable": false,
    "nbgrader": {
     "cell_type": "markdown",
     "checksum": "0314dd6d8aae6bc5950b3f4cf965a49f",
     "grade": false,
     "grade_id": "cell-52cc72d52557bfd6",
     "locked": true,
     "schema_version": 3,
     "solution": false,
     "task": false
    }
   },
   "source": [
    "![](http://cordier-phychi.toile-libre.org/Info/github/comptrivit1.png)\n",
    "![](http://cordier-phychi.toile-libre.org/Info/github/comptrivit2.png)"
   ]
  },
  {
   "cell_type": "markdown",
   "id": "20fdf2eb",
   "metadata": {},
   "source": [
    "On peut classer ces algorithmes en 3 catégories de complexité temporelle :\n",
    "- les tris par insertion, sélection et à bulles sont de complexité quadratique ($O(n^2)$)\n",
    "- les tris fusion et rapide sont quasilinéaires ($O(n\\log n)$)\n",
    "- le tri par dénombrement est linéaire ($O(n)$)\n",
    "\n",
    "Pour des petites listes (et lorsque des tris non comparatifs ne sont pas applicables), le tri par insertion est en moyenne plus rapide que les autres alors que pour des grandes listes, c'est le tri rapide qui domine."
   ]
  },
  {
   "cell_type": "markdown",
   "id": "06016ac2",
   "metadata": {
    "deletable": false,
    "editable": false,
    "nbgrader": {
     "cell_type": "markdown",
     "checksum": "e4c2e32c29f5fbf4757582ec2a8666a0",
     "grade": false,
     "grade_id": "cell-303c51fd694d65ff",
     "locked": true,
     "schema_version": 3,
     "solution": false,
     "task": false
    }
   },
   "source": [
    "### Complexité en espace : en place ou non ?"
   ]
  },
  {
   "cell_type": "markdown",
   "id": "b870b9a9",
   "metadata": {
    "deletable": false,
    "editable": false,
    "nbgrader": {
     "cell_type": "markdown",
     "checksum": "3a62ef4dd56128581c606c908c0d8920",
     "grade": false,
     "grade_id": "cell-62ede8b52845a3df",
     "locked": true,
     "schema_version": 3,
     "solution": false,
     "task": false
    }
   },
   "source": [
    "L'algorithme a-t-il besoin d'utiliser une liste intermédiaire pour opérer son tri ou parvient-il à écrire directement sur la liste d'origine&nbsp;? Dans ce dernier cas, les tri est dit **en place**."
   ]
  },
  {
   "cell_type": "markdown",
   "id": "5cc8daa5",
   "metadata": {
    "deletable": false,
    "editable": false,
    "nbgrader": {
     "cell_type": "markdown",
     "checksum": "05d47ff75653c8f955d41101d4bb95d3",
     "grade": false,
     "grade_id": "cell-83d5a83d79907c12",
     "locked": true,
     "schema_version": 3,
     "solution": false,
     "task": false
    }
   },
   "source": [
    "Dans la cellule suivante, recopiez les lignes ci-dessous en retirant à chaque fois la mauvaise réponse. Les variables correspondent chacune à un algorithme de tri différent. `'O'` signifie que le trie se fait en place, `'X'` signifie qu'il nécessite une liste intermédiaire.<br>\n",
    "Attention, pour le tri rapide, on ne considère que sa première implémentation (avec pivot aléatoire) et non la deuxième plus courte.\n",
    "\n",
    "```\n",
    "triinsertion    = 'O' 'X'\n",
    "tiselection     = 'O' 'X'\n",
    "triabulles      = 'O' 'X'\n",
    "trifusion       = 'O' 'X'\n",
    "trirapide       = 'O' 'X'\n",
    "tridenombrement = 'O' 'X'\n",
    "```"
   ]
  },
  {
   "cell_type": "code",
   "execution_count": null,
   "id": "c2bc3bd7",
   "metadata": {},
   "outputs": [],
   "source": [
    "# Les variables suivantes correspondent chacune à un algorithme de tri différent\n",
    "# 'O' signifie que le trie se fait en place, 'X' signifie qu'il nécessite une liste intermédiaire.\n",
    "# Retirez la mauvaise réponse pour chaque ligne :\n",
    "triinsertion    = 'O' 'X'\n",
    "tiselection     = 'O' 'X'\n",
    "triabulles      = 'O' 'X'\n",
    "trifusion       = 'O' 'X'\n",
    "trirapide       = 'O' 'X'\n",
    "tridenombrement = 'O' 'X'"
   ]
  },
  {
   "cell_type": "code",
   "execution_count": null,
   "id": "eb592f75",
   "metadata": {
    "deletable": false,
    "editable": false,
    "nbgrader": {
     "cell_type": "code",
     "checksum": "01fe1b12ac0e2a2f2dc5682bc840af46",
     "grade": true,
     "grade_id": "cell-13b7d0403c2731b2",
     "locked": true,
     "points": 1,
     "schema_version": 3,
     "solution": false,
     "task": false
    }
   },
   "outputs": [],
   "source": [
    "# Cellule de vérification, ne pas modifier !"
   ]
  },
  {
   "cell_type": "markdown",
   "id": "edb23d3c",
   "metadata": {},
   "source": [
    "### Stabilité"
   ]
  },
  {
   "cell_type": "markdown",
   "id": "3253d0a3",
   "metadata": {},
   "source": [
    "Un algorithme de tri est **stable** s'il conserve l'ordre relatif de départ entre deux valeurs égales.<br>\n",
    "Dans l'animation suivante, un algorithme est stable si les deux barres noires et blanches restent toujours dans le même ordre après et avant le tri."
   ]
  },
  {
   "cell_type": "code",
   "execution_count": null,
   "id": "80861a15",
   "metadata": {},
   "outputs": [],
   "source": [
    "%%html\n",
    "<iframe src=\"https://trinket.io/embed/glowscript/cbf31d3200?outputOnly=true\" width=\"100%\" height=\"600\" frameborder=\"0\" marginwidth=\"0\" marginheight=\"0\" allowfullscreen></iframe>"
   ]
  },
  {
   "cell_type": "markdown",
   "id": "5ac2d480",
   "metadata": {
    "deletable": false,
    "editable": false,
    "nbgrader": {
     "cell_type": "markdown",
     "checksum": "c9679a4230874979cd174418e95039fe",
     "grade": false,
     "grade_id": "cell-f86265b0129b8a4a",
     "locked": true,
     "schema_version": 3,
     "solution": false,
     "task": false
    }
   },
   "source": [
    "On compte le nombre de fois que les caractères 'r', 'c', 'q' et 'p' apparaissent dans cette phrase :\n",
    "- 'r' : 6\n",
    "- 'c' : 5\n",
    "- 'q' : 2\n",
    "- 'p' : 5\n",
    "\n",
    "On crée à partir de ces données le tuple `(('r',6),('c',5),('q',2),('p',5))`.<br>\n",
    "Si on trie ce tuple selon le premier élément de chacune des paires qu'il contient (tri alphabétique), tous les tris donnent le même résultat :<br>\n",
    "`(('c',5),('p',5),('q',2),('r',6))`<br>\n",
    "Mais si maintenant, on part de ce tuple trié et qu'on le trie en fonction des effectifs, les algorithmes ne sont pas tous d'accords !"
   ]
  },
  {
   "cell_type": "markdown",
   "id": "851c5c95",
   "metadata": {
    "deletable": false,
    "editable": false,
    "nbgrader": {
     "cell_type": "markdown",
     "checksum": "9dde43b4a7b281ff3adbad5c83f6f537",
     "grade": false,
     "grade_id": "cell-caeefd1549356b70",
     "locked": true,
     "schema_version": 3,
     "solution": false,
     "task": false
    }
   },
   "source": [
    "Pour vous en convaincre triez à la main `(('c',5),('p',5),('q',2),('r',6))` selon le deuxième élément de chacun des tuples en suivant l'algorithme du tri à bulle, puis en suivant l'algorithme de tri par sélection.<br>"
   ]
  },
  {
   "cell_type": "code",
   "execution_count": null,
   "id": "059d4278",
   "metadata": {},
   "outputs": [],
   "source": [
    "# Modifiez le tuple suivant par ce que vous avez obtenu après le tri à bulles\n",
    "T1 = (('c',5),('p',5),('q',2),('r',6))\n",
    "# Modifiez le tuple suivant par ce que vous avez obtenu après le tri par sélection\n",
    "T2 = (('c',5),('p',5),('q',2),('r',6))"
   ]
  },
  {
   "cell_type": "code",
   "execution_count": null,
   "id": "d01dd5c2",
   "metadata": {
    "deletable": false,
    "editable": false,
    "nbgrader": {
     "cell_type": "code",
     "checksum": "33b777022f10d97b8338cf60dd31d233",
     "grade": true,
     "grade_id": "cell-7d0ab19d2894a8d5",
     "locked": true,
     "points": 1,
     "schema_version": 3,
     "solution": false,
     "task": false
    }
   },
   "outputs": [],
   "source": [
    "# Cellule de vérification, ne pas modifier !"
   ]
  },
  {
   "cell_type": "markdown",
   "id": "8c95813e",
   "metadata": {
    "deletable": false,
    "editable": false,
    "nbgrader": {
     "cell_type": "markdown",
     "checksum": "5389004186bc75a8e4ea06edba4270d2",
     "grade": false,
     "grade_id": "cell-f0c6f7f02cfe335c",
     "locked": true,
     "schema_version": 3,
     "solution": false,
     "task": false
    }
   },
   "source": [
    "On dit alors que le tri par sélection n'est pas **stable** car il ne conserve pas nécessairement l'ordre de deux éléments égaux.<br>\n",
    "- tris instables : le tri sélection et le tri rapide.<br>\n",
    "- tris stables : le tri insertion, le tri à bulle et le tri fusion"
   ]
  },
  {
   "cell_type": "markdown",
   "id": "42340240",
   "metadata": {
    "deletable": false,
    "editable": false,
    "nbgrader": {
     "cell_type": "markdown",
     "checksum": "293a1e3ec42fc78678474fc34ef9bafe",
     "grade": false,
     "grade_id": "cell-200cf85bcc5a6d51",
     "locked": true,
     "schema_version": 3,
     "solution": false,
     "task": false
    }
   },
   "source": [
    "Un tri instable peut sans trop de peine être rendu stable, il suffit de garder la trace de l'ordre initial pour les éléments égaux, mais cela a un coût !<br>\n",
    "L'instabilité du tri par sélection peut être éliminée en utilisant une fonction intermédiaire `minimum` cherchant le plus petit des éléments restant à trier et en inserrant successivement les éléments trouvés en partant du début de la liste (attention à rester en place = pas de liste intermédiaire)."
   ]
  },
  {
   "cell_type": "markdown",
   "id": "b947f544",
   "metadata": {
    "deletable": false,
    "editable": false,
    "nbgrader": {
     "cell_type": "markdown",
     "checksum": "8263d1809b6eb52d3a8dba5137935055",
     "grade": false,
     "grade_id": "cell-a48543f2def7b920",
     "locked": true,
     "schema_version": 3,
     "solution": false,
     "task": false
    }
   },
   "source": [
    "Donnez le code de `minimum` et `tri_selection_stable` (avec une contrainte supplémentaire : le code de `tri_selection_stable` ne devra pas dépasser 3 lignes)."
   ]
  },
  {
   "cell_type": "code",
   "execution_count": null,
   "id": "fc9749d5",
   "metadata": {
    "deletable": false,
    "nbgrader": {
     "cell_type": "code",
     "checksum": "ac8bcea9109cab3b8751de7e8cecda1c",
     "grade": false,
     "grade_id": "cell-6b63389071778cfc",
     "locked": false,
     "schema_version": 3,
     "solution": true,
     "task": false
    }
   },
   "outputs": [],
   "source": [
    "def minimum(L) :\n",
    "    \"\"\"\n",
    "    renvoie le plus petit élément de la liste\n",
    "    \"\"\"\n",
    "    # VOTRE CODE\n",
    "\n",
    "# le code de tri_selection_stable ne devra pas dépasser 3 lignes pour être considéré comme juste.\n",
    "    \n",
    "def tri_selection_stable(L) :\n",
    "    # VOTRE CODE"
   ]
  },
  {
   "cell_type": "code",
   "execution_count": null,
   "id": "6bc41334",
   "metadata": {
    "deletable": false,
    "editable": false,
    "nbgrader": {
     "cell_type": "code",
     "checksum": "b1acb00bacd6d4a6a9a73c5223b546fb",
     "grade": true,
     "grade_id": "cell-36981471d9174a28",
     "locked": true,
     "points": 1,
     "schema_version": 3,
     "solution": false,
     "task": false
    }
   },
   "outputs": [],
   "source": [
    "# Cellule de vérification, ne pas modifier !"
   ]
  },
  {
   "cell_type": "code",
   "execution_count": null,
   "id": "26ea4659",
   "metadata": {
    "deletable": false,
    "editable": false,
    "nbgrader": {
     "cell_type": "code",
     "checksum": "1ddda00e3938e422a05fecdff8a1a68a",
     "grade": true,
     "grade_id": "cell-477148283d2de4f5",
     "locked": true,
     "points": 1,
     "schema_version": 3,
     "solution": false,
     "task": false
    }
   },
   "outputs": [],
   "source": [
    "# Cellule de vérification, ne pas modifier !"
   ]
  }
 ],
 "metadata": {
  "kernelspec": {
   "display_name": "Python 3",
   "language": "python",
   "name": "python3"
  },
  "language_info": {
   "codemirror_mode": {
    "name": "ipython",
    "version": 3
   },
   "file_extension": ".py",
   "mimetype": "text/x-python",
   "name": "python",
   "nbconvert_exporter": "python",
   "pygments_lexer": "ipython3",
   "version": "3.8.12"
  }
 },
 "nbformat": 4,
 "nbformat_minor": 5
}
